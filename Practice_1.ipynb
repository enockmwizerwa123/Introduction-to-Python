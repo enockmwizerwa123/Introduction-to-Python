{
 "cells": [
  {
   "cell_type": "code",
   "execution_count": 1,
   "id": "f2261f52",
   "metadata": {},
   "outputs": [],
   "source": [
    "#Introduction to python"
   ]
  },
  {
   "cell_type": "code",
   "execution_count": 2,
   "id": "c11978d5",
   "metadata": {},
   "outputs": [],
   "source": [
    "#print fuction it requires the paranthesis around its arguments anything inside\n",
    "# quotation it will appear as it is."
   ]
  },
  {
   "cell_type": "code",
   "execution_count": 3,
   "id": "2d98e8f6",
   "metadata": {},
   "outputs": [
    {
     "name": "stdout",
     "output_type": "stream",
     "text": [
      "Hello world!\n",
      "Hello World!\n",
      "Hello World!\n"
     ]
    }
   ],
   "source": [
    "print(\"Hello world!\")\n",
    "print ('Hello World!')\n",
    "print( \"Hello World!\" )"
   ]
  },
  {
   "cell_type": "code",
   "execution_count": 4,
   "id": "43a12cf9",
   "metadata": {},
   "outputs": [],
   "source": [
    "#Ask input from the user\n",
    "#input function is used when you want to get the information from people using your program"
   ]
  },
  {
   "cell_type": "code",
   "execution_count": 5,
   "id": "7d5da45b",
   "metadata": {},
   "outputs": [
    {
     "name": "stdout",
     "output_type": "stream",
     "text": [
      "Enter a temperature in celcius: 32\n",
      "In Fahrenheit, that is 89.6\n"
     ]
    }
   ],
   "source": [
    "#Variables\n",
    "temp= eval(input('Enter a temperature in celcius: '))\n",
    "print('In Fahrenheit, that is',9/5*temp+32)"
   ]
  },
  {
   "cell_type": "code",
   "execution_count": 6,
   "id": "f100b80a",
   "metadata": {},
   "outputs": [
    {
     "name": "stdout",
     "output_type": "stream",
     "text": [
      "Enter a temperature in celcius: 45\n",
      "In Fahrenheit, that is 113.0\n"
     ]
    }
   ],
   "source": [
    "temp = eval(input('Enter a temperature in celcius: '))\n",
    "f_temp =9/5*temp+32\n",
    "print('In Fahrenheit, that is',f_temp)\n",
    "if f_temp > 212:\n",
    "    print('That temperature is above boiling point.')\n",
    "if f_temp < 32:\n",
    "    print('That temperature is below freezing point.')"
   ]
  },
  {
   "cell_type": "code",
   "execution_count": 7,
   "id": "ad6fbbf3",
   "metadata": {},
   "outputs": [],
   "source": [
    "x=3\n",
    "y=4\n",
    "z=x+y\n",
    "z=z+1\n",
    "x=y\n",
    "y=5"
   ]
  },
  {
   "cell_type": "code",
   "execution_count": 8,
   "id": "7c922558",
   "metadata": {},
   "outputs": [
    {
     "name": "stdout",
     "output_type": "stream",
     "text": [
      "4 5 8\n"
     ]
    }
   ],
   "source": [
    "print(x,y,z)"
   ]
  },
  {
   "cell_type": "code",
   "execution_count": 9,
   "id": "13817dd2",
   "metadata": {},
   "outputs": [],
   "source": [
    "#Exercises"
   ]
  },
  {
   "cell_type": "code",
   "execution_count": 10,
   "id": "0c00acfa",
   "metadata": {},
   "outputs": [
    {
     "name": "stdout",
     "output_type": "stream",
     "text": [
      "*******************\n",
      "*******************\n",
      "*******************\n",
      "*******************\n",
      "\n"
     ]
    }
   ],
   "source": [
    "for i in range(4):\n",
    "    print(\"*\"*19,sep=\" \")\n",
    "print()    "
   ]
  },
  {
   "cell_type": "code",
   "execution_count": null,
   "id": "22fb2198",
   "metadata": {},
   "outputs": [],
   "source": []
  },
  {
   "cell_type": "code",
   "execution_count": 11,
   "id": "cc09e012",
   "metadata": {},
   "outputs": [
    {
     "name": "stdout",
     "output_type": "stream",
     "text": [
      "*\n",
      "**\n",
      "***\n",
      "****\n",
      "\n"
     ]
    }
   ],
   "source": [
    "for i in range(1,5,1):\n",
    "    print(\"*\"*i,sep=\" \")\n",
    "print()\n"
   ]
  },
  {
   "cell_type": "code",
   "execution_count": 12,
   "id": "12d0914f",
   "metadata": {},
   "outputs": [
    {
     "name": "stdout",
     "output_type": "stream",
     "text": [
      "Result is: 0.1017.\n"
     ]
    }
   ],
   "source": [
    "T = (512 -282)/((47*48)+5)\n",
    "print(\"Result is: \",round(T,4),\".\",sep=\"\")"
   ]
  },
  {
   "cell_type": "code",
   "execution_count": 13,
   "id": "728504b8",
   "metadata": {},
   "outputs": [
    {
     "name": "stdout",
     "output_type": "stream",
     "text": [
      "Enter a number: 5\n",
      "The square of 5 is 25.\n"
     ]
    }
   ],
   "source": [
    "num=eval(input('Enter a number: '))\n",
    "print('The square of ',num,\" is \",num*num,\".\",sep=\"\")"
   ]
  },
  {
   "cell_type": "code",
   "execution_count": 14,
   "id": "3f0f23d7",
   "metadata": {},
   "outputs": [
    {
     "name": "stdout",
     "output_type": "stream",
     "text": [
      "Enter a number: 7\n",
      "7---14---21---28---35---"
     ]
    }
   ],
   "source": [
    "x=eval(input('Enter a number: '))\n",
    "for i in range(1,6,1):\n",
    "    print(i*x,sep=\"---\",end=\"---\")\n",
    "#print(x, end=\"---\",2*x,end=\"---\", 3*x,end=\"---\" , 4*x, end=\"---\", 5*x),end=\"---\""
   ]
  },
  {
   "cell_type": "code",
   "execution_count": 15,
   "id": "4126bb08",
   "metadata": {},
   "outputs": [
    {
     "name": "stdout",
     "output_type": "stream",
     "text": [
      "Enter your weight in Kg: 76\n",
      "Your weight in pound is: 167.2\n"
     ]
    }
   ],
   "source": [
    "weight =eval(input('Enter your weight in Kg: '))\n",
    "Weight_pd=weight*2.2\n",
    "if weight<0:\n",
    "    print(\"Incorrect weight has to be positive number\")\n",
    "else:\n",
    "    print(\"Your weight in pound is: \", round(Weight_pd,2),sep=\"\")"
   ]
  },
  {
   "cell_type": "code",
   "execution_count": 16,
   "id": "3a0d66f2",
   "metadata": {},
   "outputs": [
    {
     "name": "stdout",
     "output_type": "stream",
     "text": [
      "Enter first number: 15\n",
      "Enter second number: 21\n",
      "Enter third number: 32\n",
      "Total of your entered numbers is:  68  and the average is  22.67\n"
     ]
    }
   ],
   "source": [
    "num1= eval(input(\"Enter first number: \"))\n",
    "num2= eval(input(\"Enter second number: \"))\n",
    "num3= eval(input(\"Enter third number: \"))\n",
    "Total = num1+num2+num3\n",
    "Average = Total/3\n",
    "print(\"Total of your entered numbers is: \", Total, end=\" \")\n",
    "print(\" and the average is \",round(Average,2))"
   ]
  },
  {
   "cell_type": "code",
   "execution_count": 17,
   "id": "23ad9840",
   "metadata": {},
   "outputs": [
    {
     "name": "stdout",
     "output_type": "stream",
     "text": [
      "Enter a price: 7000\n",
      "Enter the percentage tip: 3\n",
      "The total price inclundinig tip is:  7210.0\n"
     ]
    }
   ],
   "source": [
    "meal_price = eval(input('Enter a price: '))\n",
    "tip_percent = eval(input('Enter the percentage tip: '))\n",
    "Tip= (tip_percent*meal_price)/100\n",
    "if meal_price <0:\n",
    "    print(\"Please enter positive amount !!!\")\n",
    "else:\n",
    "    print(\"The total price inclundinig tip is: \",meal_price+Tip)"
   ]
  },
  {
   "cell_type": "code",
   "execution_count": 18,
   "id": "3775047a",
   "metadata": {},
   "outputs": [
    {
     "name": "stdout",
     "output_type": "stream",
     "text": [
      "Enter the first number: 45\n",
      "Enter the second number: 77\n",
      "Average of the numbers you entered is: 61.0\n"
     ]
    }
   ],
   "source": [
    "num1 = eval(input('Enter the first number: '))\n",
    "num2 = eval(input('Enter the second number: '))\n",
    "print('Average of the numbers you entered is:', (num1+num2)/2)"
   ]
  },
  {
   "cell_type": "code",
   "execution_count": 19,
   "id": "b0953948",
   "metadata": {},
   "outputs": [
    {
     "name": "stdout",
     "output_type": "stream",
     "text": [
      "Enter your name: Enock\n",
      "Hello,  Enock\n"
     ]
    }
   ],
   "source": [
    "Name = input('Enter your name: ')\n",
    "print('Hello, ',Name)"
   ]
  },
  {
   "cell_type": "code",
   "execution_count": 20,
   "id": "10c33f1f",
   "metadata": {},
   "outputs": [
    {
     "name": "stdout",
     "output_type": "stream",
     "text": [
      "Enter your year of birth: 1995\n",
      "Enter current year: 2300\n",
      "your age now is  305\n"
     ]
    }
   ],
   "source": [
    "Birth_year = eval(input('Enter your year of birth: '))\n",
    "current_year =eval(input('Enter current year: '))\n",
    "print(\"your age now is \",current_year - Birth_year)"
   ]
  },
  {
   "cell_type": "code",
   "execution_count": 21,
   "id": "6f5c512b",
   "metadata": {},
   "outputs": [
    {
     "name": "stdout",
     "output_type": "stream",
     "text": [
      "The value of 3+4 is  7\n"
     ]
    }
   ],
   "source": [
    "print('The value of 3+4 is ',3+4)\n"
   ]
  },
  {
   "cell_type": "code",
   "execution_count": 22,
   "id": "107b46f5",
   "metadata": {},
   "outputs": [
    {
     "name": "stdout",
     "output_type": "stream",
     "text": [
      "The value of 3+4 is  7 .\n",
      "The value of 3+4 is 7.\n"
     ]
    }
   ],
   "source": [
    "#Optinal arguments\n",
    "print('The value of 3+4 is ', 3+4, '.')\n",
    "print('The value of 3+4 is ', 3+4,'.',sep=\"\")"
   ]
  },
  {
   "cell_type": "code",
   "execution_count": 23,
   "id": "0f71f195",
   "metadata": {},
   "outputs": [
    {
     "name": "stdout",
     "output_type": "stream",
     "text": [
      "First  line Second line\n"
     ]
    }
   ],
   "source": [
    "print('First  line',end=' ')\n",
    "print('Second line')"
   ]
  },
  {
   "cell_type": "code",
   "execution_count": null,
   "id": "471dea4a",
   "metadata": {},
   "outputs": [],
   "source": []
  }
 ],
 "metadata": {
  "kernelspec": {
   "display_name": "Python 3 (ipykernel)",
   "language": "python",
   "name": "python3"
  },
  "language_info": {
   "codemirror_mode": {
    "name": "ipython",
    "version": 3
   },
   "file_extension": ".py",
   "mimetype": "text/x-python",
   "name": "python",
   "nbconvert_exporter": "python",
   "pygments_lexer": "ipython3",
   "version": "3.9.12"
  }
 },
 "nbformat": 4,
 "nbformat_minor": 5
}
